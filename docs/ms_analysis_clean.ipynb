{
 "cells": [
  {
   "cell_type": "code",
   "execution_count": 46,
   "metadata": {},
   "outputs": [],
   "source": [
    "import pandas as pd\n",
    "import matplotlib.pyplot as plt\n",
    "import numpy as np\n",
    "import seaborn as sns\n",
    "\n",
    "import os\n",
    "import requests\n",
    "import sys\n",
    "\n",
    "from io import StringIO\n",
    "from pathlib import Path\n",
    "\n",
    "repo_path = Path(\"C:/Users/Wyss User/Documents/EVs/bdev_mass_spec\")\n",
    "os.chdir(repo_path)\n",
    "sys.path.append(str(repo_path / \"src\"))\n",
    "\n",
    "from brainrnaseq_specificity import map_hgnc_ids, create_enrichment_dataframe, calculate_enrichment, cell_type_enrichment, mean_cell_type, process_hgnc_data\n",
    "from deeptmhmm_localization import parse_gz_file, tmhmm_localization, identify_localization\n",
    "from config import hgnc_ids, CELL_TYPES\n",
    "\n",
    "output_directory = Path(r\"outputs\\pd_1_output\")\n",
    "raw_data_path = Path(r\"data\\ms_1_raw.xlsx\")\n",
    "uniprot_fasta_database = Path(r\"data\\uniprot_fasta_database.gz\")\n",
    "brain_rna_seq_raw_path = Path(r\"data\\240411_brain_rna_seq_raw.csv\")"
   ]
  },
  {
   "cell_type": "code",
   "execution_count": 20,
   "metadata": {},
   "outputs": [],
   "source": [
    "samples_dict = {\n",
    "    \"Sum Intensity P1\": \"GFP\",\n",
    "    \"Sum Intensity P2\": \"AQP4 PD1\",\n",
    "    \"Sum Intensity P3\": \"Unconjugated Beads\",\n",
    "    \"Sum Intensity P4\": \"AQP4 PD2\",\n",
    "    \"Sum Intensity P5\": \"CD9\"\n",
    "}"
   ]
  },
  {
   "cell_type": "code",
   "execution_count": 38,
   "metadata": {},
   "outputs": [],
   "source": [
    "def extract_protein_label(df: pd.DataFrame, label: str) -> pd.Index:\n",
    "    \"\"\"Extract protein labels (UniProt ID or name) from the index of the DataFrame.\"\"\"\n",
    "    if label == \"name\":\n",
    "        return df.index.str.extract(r'\\|([\\w]+)\\_', expand=False)\n",
    "    elif label == \"uniprot\":\n",
    "        return df.index.str.extract(r'\\|([\\w]+)\\|', expand=False)\n",
    "    else:\n",
    "            raise ValueError(\"Invalid label. Use 'name' or 'uniprot'.\")\n",
    "\n",
    "def normalize_raw_data(df: pd.DataFrame, col_dict: dict) -> pd.DataFrame:\n",
    "    \"\"\"\n",
    "    Normalize raw mass spec pulldown data.\n",
    "    - Select pulldown and reference columns\n",
    "    - Replace NF values with 0.0\n",
    "    - Convert object-type columns to numeric\n",
    "    - Normalize by row maximum\n",
    "    - Filter to only include human protein hits\n",
    "    - Set index as UniProt IDs\n",
    "    \"\"\"\n",
    "    \n",
    "    # filter the raw data frame to only include the columns with pulldown data\n",
    "    selected_columns = list(col_dict.keys()) + ['reference']\n",
    "    # selected_columns.append('reference')\n",
    "    filtered_df = df[selected_columns].copy()\n",
    "\n",
    "    # Set reference column as index\n",
    "    filtered_df.set_index('reference', inplace=True)\n",
    "\n",
    "    # replace all NF values with 0.0 and convert all object columns to numeric\n",
    "    filtered_df = filtered_df.replace(\"NF\", 0.0)\n",
    "    for col in filtered_df.select_dtypes(include=\"object\").columns:\n",
    "        filtered_df[col] = pd.to_numeric(filtered_df[col], errors=\"coerce\")\n",
    "\n",
    "    # Normalize each row by its max value (0 to 1 range, 1 = highest possible intensity)\n",
    "    row_max = filtered_df.max(axis=1)\n",
    "    filtered_df = filtered_df.div(row_max, axis=0)\n",
    "\n",
    "    # filter data to only include human protein hits\n",
    "    human_df = filtered_df[filtered_df.index.str.contains(\"HUMAN\")]\n",
    "\n",
    "    # Set the index as uniprot IDs\n",
    "    human_df.index = extract_protein_label(human_df, \"uniprot\")\n",
    "    return human_df"
   ]
  },
  {
   "cell_type": "code",
   "execution_count": 42,
   "metadata": {},
   "outputs": [
    {
     "name": "stderr",
     "output_type": "stream",
     "text": [
      "C:\\Users\\Wyss User\\AppData\\Local\\Temp\\ipykernel_27940\\2813533565.py:29: FutureWarning: Downcasting behavior in `replace` is deprecated and will be removed in a future version. To retain the old behavior, explicitly call `result.infer_objects(copy=False)`. To opt-in to the future behavior, set `pd.set_option('future.no_silent_downcasting', True)`\n",
      "  filtered_df = filtered_df.replace(\"NF\", 0.0)\n"
     ]
    }
   ],
   "source": [
    "raw_data = pd.read_excel(raw_data_path, sheet_name = \"Sheet2\")\n",
    "human_data = normalize_raw_data(raw_data, samples_dict)"
   ]
  },
  {
   "cell_type": "code",
   "execution_count": 47,
   "metadata": {},
   "outputs": [],
   "source": [
    "# Load and process the Brain RNA-Seq data\n",
    "brain_rna_seq = pd.read_csv(brain_rna_seq_raw_path)\n",
    "hgnc_uniprot_mapping_data = process_hgnc_data(hgnc_ids)\n",
    "brain_rna_seq = (\n",
    "    brain_rna_seq.merge(\n",
    "        hgnc_uniprot_mapping_data, left_on=\"id\", right_on=\"hgnc_id\", how=\"inner\"\n",
    "    )\n",
    "    .dropna(subset=[\"uniprot_ids\"])\n",
    "    .drop_duplicates(subset=[\"uniprot_ids\"])\n",
    ")\n",
    "brain_rna_seq.set_index(\n",
    "    [\"uniprot_ids\", \"symbol\", \"name\", \"alias_symbol\", \"alias_name\"], inplace=True\n",
    ")\n",
    "cell_type_dfs = {\n",
    "    cell_type: mean_cell_type(brain_rna_seq, cell_type)\n",
    "    for cell_type in [\n",
    "        \"astrocyte\",\n",
    "        \"endothelial\",\n",
    "        \"microglia\",\n",
    "        \"oligodendrocyte\",\n",
    "        \"neuron\",\n",
    "    ]\n",
    "}\n",
    "\n",
    "all_cell_types = pd.concat(cell_type_dfs.values(), axis=1)\n",
    "expression_df = all_cell_types[CELL_TYPES.values()]\n",
    "\n",
    "tau_score_cutoff = 0.75\n",
    "enrichment_values = expression_df.apply(\n",
    "    lambda row: calculate_enrichment(row, \"tau\"), axis=1\n",
    ")\n",
    "high_tau_proteins = enrichment_values[enrichment_values > tau_score_cutoff].index.get_level_values(\"uniprot_ids\").tolist()"
   ]
  },
  {
   "cell_type": "code",
   "execution_count": 48,
   "metadata": {},
   "outputs": [],
   "source": [
    "def max_cell_type_expression(cell_type, expression_df):\n",
    "    expression_df_copy = expression_df.copy()\n",
    "    expression_df_copy['max'] = expression_df.max(axis=1)\n",
    "    return expression_df_copy[expression_df_copy[cell_type] == expression_df_copy[\"max\"]].index.get_level_values(\"uniprot_ids\").tolist()"
   ]
  },
  {
   "cell_type": "code",
   "execution_count": 49,
   "metadata": {},
   "outputs": [],
   "source": [
    "high_astrocyte = max_cell_type_expression(\"mature\", expression_df)\n",
    "high_microglia = max_cell_type_expression(\"microglla\", expression_df)\n",
    "high_oligodendrocyte = max_cell_type_expression(\"oligodendrocyte\", expression_df)\n",
    "high_neuron = max_cell_type_expression(\"neuron\", expression_df)\n",
    "high_endothelial = max_cell_type_expression(\"endothelial\", expression_df)\n",
    "\n",
    "astrocyte_specific = set(high_astrocyte) & set(high_tau_proteins)\n",
    "microglia_specific = set(high_microglia) & set(high_tau_proteins)\n",
    "oligodendrocyte_specific = set(high_oligodendrocyte) & set(high_tau_proteins)\n",
    "neuron_specific = set(high_neuron) & set(high_tau_proteins)\n",
    "endothelial_specific = set(high_endothelial) & set(high_tau_proteins)"
   ]
  },
  {
   "cell_type": "code",
   "execution_count": 124,
   "metadata": {},
   "outputs": [],
   "source": [
    "enriched_targets = human_data[\n",
    "    (human_data[\"Sum Intensity P1\"] < 0.01)\n",
    "    & (human_data[\"Sum Intensity P3\"] < 0.01)\n",
    "    ]\n",
    "\n",
    "# p2_enriched_targets = enriched_targets[enriched_targets[\"Sum Intensity P2\"] > 0.85]\n",
    "# p4_enriched_targets = enriched_targets[enriched_targets[\"Sum Intensity P4\"] > 0.85]\n",
    "# p5_enriched_targets = enriched_targets[enriched_targets[\"Sum Intensity P5\"] > 0.85]"
   ]
  },
  {
   "cell_type": "code",
   "execution_count": 125,
   "metadata": {},
   "outputs": [
    {
     "name": "stderr",
     "output_type": "stream",
     "text": [
      "c:\\Users\\Wyss User\\anaconda3\\envs\\mass_spec\\Lib\\site-packages\\numpy\\lib\\_nanfunctions_impl.py:1633: RuntimeWarning: Mean of empty slice\n",
      "  return np.nanmean(a, axis, out=out, keepdims=keepdims)\n",
      "c:\\Users\\Wyss User\\anaconda3\\envs\\mass_spec\\Lib\\site-packages\\seaborn\\matrix.py:309: UserWarning: Attempting to set identical low and high ylims makes transformation singular; automatically expanding.\n",
      "  ax.set(xlim=(0, self.data.shape[1]), ylim=(0, self.data.shape[0]))\n"
     ]
    },
    {
     "data": {
      "text/plain": [
       "Text(0.5, 1.0, 'Microglia')"
      ]
     },
     "execution_count": 125,
     "metadata": {},
     "output_type": "execute_result"
    },
    {
     "data": {
      "image/png": "[encoded data removed]",
      "text/plain": [
       "<Figure size 640x480 with 2 Axes>"
      ]
     },
     "metadata": {},
     "output_type": "display_data"
    }
   ],
   "source": [
    "df_list=enriched_targets[enriched_targets.index.isin(microglia_specific)].index.tolist()\n",
    "\n",
    "column_names = {\n",
    "    \"Sum Intensity P2\": \"AQP4-1\",\n",
    "    \"Sum Intensity P4\": \"AQP4-2\",\n",
    "    \"Sum Intensity P5\": \"CD9\"\n",
    "}\n",
    "\n",
    "df = filtered_data[filtered_data.index.isin(df_list)]\n",
    "heatmap_data = pd.merge(hgnc_uniprot_mapping_data, df, left_on = \"uniprot_ids\", right_index = True).set_index(\"symbol\")\n",
    "\n",
    "heatmap_data = heatmap_data[[\"Sum Intensity P2\", \"Sum Intensity P4\", \"Sum Intensity P5\"]]\n",
    "heatmap_data.rename(mapper=column_names, axis=1, inplace=True)\n",
    "heatmap_data.replace(to_replace=\"NF\", value=0, inplace=True)\n",
    "# heatmap_data = np.log1p(heatmap_data)  # log1p(x) = log(1 + x)\n",
    "\n",
    "\n",
    "colormap = sns.color_palette(\"Purples\") \n",
    "\n",
    "sns.heatmap(heatmap_data, cmap=colormap, robust=True, annot=True)\n",
    "plt.title(\"Microglia\")"
   ]
  }
 ],
 "metadata": {
  "kernelspec": {
   "display_name": "base",
   "language": "python",
   "name": "python3"
  },
  "language_info": {
   "codemirror_mode": {
    "name": "ipython",
    "version": 3
   },
   "file_extension": ".py",
   "mimetype": "text/x-python",
   "name": "python",
   "nbconvert_exporter": "python",
   "pygments_lexer": "ipython3",
   "version": "3.11.8"
  }
 },
 "nbformat": 4,
 "nbformat_minor": 2
}
